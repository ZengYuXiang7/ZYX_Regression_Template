{
 "cells": [
  {
   "cell_type": "code",
   "outputs": [],
   "source": [
    "import pandas as pd\n",
    "import numpy as np\n",
    "import torch"
   ],
   "metadata": {
    "collapsed": false,
    "ExecuteTime": {
     "end_time": "2024-02-21T01:37:10.062593Z",
     "start_time": "2024-02-21T01:37:10.048286Z"
    }
   },
   "id": "c2fc1d976f39689a",
   "execution_count": 24
  },
  {
   "cell_type": "code",
   "outputs": [],
   "source": [
    "from main import get_args\n",
    "\n",
    "args = get_args()"
   ],
   "metadata": {
    "collapsed": false,
    "ExecuteTime": {
     "end_time": "2024-02-21T01:37:10.130715Z",
     "start_time": "2024-02-21T01:37:10.067686Z"
    }
   },
   "id": "4ae52e3617169803",
   "execution_count": 25
  },
  {
   "cell_type": "code",
   "outputs": [
    {
     "data": {
      "text/plain": "array([[5.00000e-01, 5.00000e+00, 5.00000e-01, 5.00000e+00, 8.26530e+02,\n        1.61000e+03],\n       [1.00000e+00, 5.00000e+00, 1.00000e+00, 6.00000e+00, 1.68235e+03,\n        3.94000e+03],\n       [1.50000e+00, 5.00000e+00, 1.50000e+00, 7.00000e+00, 2.60000e+03,\n        7.08000e+03],\n       [2.00000e+00, 5.00000e+00, 2.00000e+00, 8.00000e+00, 3.40000e+03,\n        1.08000e+04],\n       [2.50000e+00, 5.00000e+00, 2.50000e+00, 9.00000e+00, 4.30000e+03,\n        1.48000e+04],\n       [3.00000e+00, 5.00000e+00, 3.00000e+00, 1.00000e+01, 5.00000e+03,\n        1.93000e+04],\n       [1.00000e+00, 6.00000e+00, 1.50000e+00, 5.00000e+00, 2.52450e+03,\n        5.15000e+03],\n       [5.00000e-01, 6.00000e+00, 2.00000e+00, 6.00000e+00, 1.70000e+03,\n        4.95000e+03],\n       [2.00000e+00, 6.00000e+00, 5.00000e-01, 7.00000e+00, 2.70000e+03,\n        7.51000e+03],\n       [1.50000e+00, 6.00000e+00, 1.00000e+00, 8.00000e+00, 2.20000e+03,\n        7.18000e+03],\n       [3.00000e+00, 6.00000e+00, 5.00000e-01, 9.00000e+00, 4.00000e+03,\n        1.38000e+04],\n       [2.50000e+00, 6.00000e+00, 1.00000e+00, 1.00000e+01, 3.50000e+03,\n        1.34000e+04],\n       [1.50000e+00, 7.00000e+00, 2.00000e+00, 5.00000e+00, 4.06078e+03,\n        8.33000e+03],\n       [2.00000e+00, 7.00000e+00, 1.50000e+00, 6.00000e+00, 3.60000e+03,\n        8.99000e+03],\n       [5.00000e-01, 7.00000e+00, 1.00000e+00, 7.00000e+00, 9.00000e+02,\n        2.73000e+03],\n       [1.00000e+00, 7.00000e+00, 5.00000e-01, 8.00000e+00, 1.40000e+03,\n        4.51000e+03],\n       [5.00000e-01, 7.00000e+00, 3.00000e+00, 9.00000e+00, 2.01667e+03,\n        8.07000e+03],\n       [1.00000e+00, 7.00000e+00, 2.50000e+00, 1.00000e+01, 2.40000e+03,\n        9.35000e+03],\n       [2.00000e+00, 8.00000e+00, 1.00000e+00, 5.00000e+00, 3.40000e+03,\n        6.96000e+03],\n       [1.50000e+00, 8.00000e+00, 5.00000e-01, 6.00000e+00, 2.12041e+03,\n        5.11000e+03]])"
     },
     "execution_count": 26,
     "metadata": {},
     "output_type": "execute_result"
    }
   ],
   "source": [
    "data = pd.read_excel('./datasets/数据预处理.xlsx')\n",
    "data.columns\n",
    "data = data.drop(columns='case')\n",
    "data = data.drop(columns='Unnamed: 5')\n",
    "data = data.to_numpy()\n",
    "data"
   ],
   "metadata": {
    "collapsed": false,
    "ExecuteTime": {
     "end_time": "2024-02-21T01:37:10.144863Z",
     "start_time": "2024-02-21T01:37:10.134271Z"
    }
   },
   "id": "10e3daf0bb964fde",
   "execution_count": 26
  },
  {
   "cell_type": "code",
   "outputs": [],
   "source": [
    "X = data[:, :4]\n",
    "Y = data[:, 4]"
   ],
   "metadata": {
    "collapsed": false,
    "ExecuteTime": {
     "end_time": "2024-02-21T01:37:10.150789Z",
     "start_time": "2024-02-21T01:37:10.145785Z"
    }
   },
   "id": "60e533d83a6bfc3e",
   "execution_count": 27
  },
  {
   "cell_type": "code",
   "outputs": [],
   "source": [
    "from sklearn.preprocessing import MinMaxScaler\n",
    "\n",
    "scaler = MinMaxScaler()\n",
    "X = scaler.fit_transform(X)\n"
   ],
   "metadata": {
    "collapsed": false,
    "ExecuteTime": {
     "end_time": "2024-02-21T01:37:10.155893Z",
     "start_time": "2024-02-21T01:37:10.149665Z"
    }
   },
   "id": "4c0cf6d45fa1ae94",
   "execution_count": 28
  },
  {
   "cell_type": "code",
   "outputs": [
    {
     "data": {
      "text/plain": "array([0.165306, 0.33647 , 0.52    , 0.68    , 0.86    , 1.      ,\n       0.5049  , 0.34    , 0.54    , 0.44    , 0.8     , 0.7     ,\n       0.812156, 0.72    , 0.18    , 0.28    , 0.403334, 0.48    ,\n       0.68    , 0.424082])"
     },
     "execution_count": 29,
     "metadata": {},
     "output_type": "execute_result"
    }
   ],
   "source": [
    "max_value = Y.max()\n",
    "\n",
    "Y = Y / max_value\n",
    "Y"
   ],
   "metadata": {
    "collapsed": false,
    "ExecuteTime": {
     "end_time": "2024-02-21T01:37:10.156796Z",
     "start_time": "2024-02-21T01:37:10.152923Z"
    }
   },
   "id": "ca05d888d2cfdc8",
   "execution_count": 29
  },
  {
   "cell_type": "code",
   "outputs": [
    {
     "data": {
      "text/plain": "array([[0.165306],\n       [0.33647 ],\n       [0.52    ],\n       [0.68    ],\n       [0.86    ],\n       [1.      ],\n       [0.5049  ],\n       [0.34    ],\n       [0.54    ],\n       [0.44    ],\n       [0.8     ],\n       [0.7     ],\n       [0.812156],\n       [0.72    ],\n       [0.18    ],\n       [0.28    ],\n       [0.403334],\n       [0.48    ],\n       [0.68    ],\n       [0.424082]])"
     },
     "execution_count": 30,
     "metadata": {},
     "output_type": "execute_result"
    }
   ],
   "source": [
    "Y = Y.reshape(-1, 1)\n",
    "Y"
   ],
   "metadata": {
    "collapsed": false,
    "ExecuteTime": {
     "end_time": "2024-02-21T01:37:10.174587Z",
     "start_time": "2024-02-21T01:37:10.156059Z"
    }
   },
   "id": "bfc77ee3c64a9da1",
   "execution_count": 30
  },
  {
   "cell_type": "code",
   "outputs": [
    {
     "data": {
      "text/plain": "array([[0.        , 0.        , 0.        , 0.        , 0.165306  ],\n       [0.2       , 0.        , 0.2       , 0.2       , 0.33647   ],\n       [0.4       , 0.        , 0.4       , 0.4       , 0.52      ],\n       [0.6       , 0.        , 0.6       , 0.6       , 0.68      ],\n       [0.8       , 0.        , 0.8       , 0.8       , 0.86      ],\n       [1.        , 0.        , 1.        , 1.        , 1.        ],\n       [0.2       , 0.33333333, 0.4       , 0.        , 0.5049    ],\n       [0.        , 0.33333333, 0.6       , 0.2       , 0.34      ],\n       [0.6       , 0.33333333, 0.        , 0.4       , 0.54      ],\n       [0.4       , 0.33333333, 0.2       , 0.6       , 0.44      ],\n       [1.        , 0.33333333, 0.        , 0.8       , 0.8       ],\n       [0.8       , 0.33333333, 0.2       , 1.        , 0.7       ],\n       [0.4       , 0.66666667, 0.6       , 0.        , 0.812156  ],\n       [0.6       , 0.66666667, 0.4       , 0.2       , 0.72      ],\n       [0.        , 0.66666667, 0.2       , 0.4       , 0.18      ],\n       [0.2       , 0.66666667, 0.        , 0.6       , 0.28      ],\n       [0.        , 0.66666667, 1.        , 0.8       , 0.403334  ],\n       [0.2       , 0.66666667, 0.8       , 1.        , 0.48      ],\n       [0.6       , 1.        , 0.2       , 0.        , 0.68      ],\n       [0.4       , 1.        , 0.        , 0.2       , 0.424082  ]])"
     },
     "execution_count": 31,
     "metadata": {},
     "output_type": "execute_result"
    }
   ],
   "source": [
    "tensor = np.concatenate([X, Y], axis = 1)\n",
    "tensor"
   ],
   "metadata": {
    "collapsed": false,
    "ExecuteTime": {
     "end_time": "2024-02-21T01:37:10.175051Z",
     "start_time": "2024-02-21T01:37:10.160446Z"
    }
   },
   "id": "c719fe3332bf374e",
   "execution_count": 31
  },
  {
   "cell_type": "code",
   "outputs": [
    {
     "data": {
      "text/plain": "array([[1.        , 0.        , 1.        , 1.        , 1.        ],\n       [0.        , 0.66666667, 1.        , 0.8       , 0.403334  ],\n       [0.6       , 0.66666667, 0.4       , 0.2       , 0.72      ],\n       [0.2       , 0.66666667, 0.8       , 1.        , 0.48      ],\n       [0.8       , 0.        , 0.8       , 0.8       , 0.86      ],\n       [0.6       , 0.        , 0.6       , 0.6       , 0.68      ],\n       [0.4       , 0.        , 0.4       , 0.4       , 0.52      ],\n       [0.8       , 0.33333333, 0.2       , 1.        , 0.7       ],\n       [0.2       , 0.        , 0.2       , 0.2       , 0.33647   ],\n       [0.2       , 0.33333333, 0.4       , 0.        , 0.5049    ],\n       [0.        , 0.        , 0.        , 0.        , 0.165306  ],\n       [0.6       , 1.        , 0.2       , 0.        , 0.68      ],\n       [0.4       , 0.33333333, 0.2       , 0.6       , 0.44      ],\n       [0.2       , 0.66666667, 0.        , 0.6       , 0.28      ],\n       [0.        , 0.66666667, 0.2       , 0.4       , 0.18      ],\n       [0.4       , 0.66666667, 0.6       , 0.        , 0.812156  ],\n       [1.        , 0.33333333, 0.        , 0.8       , 0.8       ],\n       [0.        , 0.33333333, 0.6       , 0.2       , 0.34      ],\n       [0.6       , 0.33333333, 0.        , 0.4       , 0.54      ],\n       [0.4       , 1.        , 0.        , 0.2       , 0.424082  ]])"
     },
     "execution_count": 32,
     "metadata": {},
     "output_type": "execute_result"
    }
   ],
   "source": [
    "np.random.shuffle(tensor)\n",
    "tensor"
   ],
   "metadata": {
    "collapsed": false,
    "ExecuteTime": {
     "end_time": "2024-02-21T01:37:10.175610Z",
     "start_time": "2024-02-21T01:37:10.163560Z"
    }
   },
   "id": "d238b387ebf18f0a",
   "execution_count": 32
  },
  {
   "cell_type": "code",
   "outputs": [],
   "source": [
    "trainsize = int(len(tensor) * 0.80)\n",
    "validsize = int(len(tensor) * 0.10)"
   ],
   "metadata": {
    "collapsed": false,
    "ExecuteTime": {
     "end_time": "2024-02-21T01:37:10.177023Z",
     "start_time": "2024-02-21T01:37:10.168582Z"
    }
   },
   "id": "c4c4bcbda5c5dd56",
   "execution_count": 33
  },
  {
   "cell_type": "code",
   "outputs": [
    {
     "data": {
      "text/plain": "array([[1.        , 0.        , 1.        , 1.        , 1.        ],\n       [0.        , 0.66666667, 1.        , 0.8       , 0.403334  ],\n       [0.6       , 0.66666667, 0.4       , 0.2       , 0.72      ],\n       [0.2       , 0.66666667, 0.8       , 1.        , 0.48      ],\n       [0.8       , 0.        , 0.8       , 0.8       , 0.86      ],\n       [0.6       , 0.        , 0.6       , 0.6       , 0.68      ],\n       [0.4       , 0.        , 0.4       , 0.4       , 0.52      ],\n       [0.8       , 0.33333333, 0.2       , 1.        , 0.7       ],\n       [0.2       , 0.        , 0.2       , 0.2       , 0.33647   ],\n       [0.2       , 0.33333333, 0.4       , 0.        , 0.5049    ],\n       [0.        , 0.        , 0.        , 0.        , 0.165306  ],\n       [0.6       , 1.        , 0.2       , 0.        , 0.68      ],\n       [0.4       , 0.33333333, 0.2       , 0.6       , 0.44      ],\n       [0.2       , 0.66666667, 0.        , 0.6       , 0.28      ],\n       [0.        , 0.66666667, 0.2       , 0.4       , 0.18      ],\n       [0.4       , 0.66666667, 0.6       , 0.        , 0.812156  ]])"
     },
     "execution_count": 34,
     "metadata": {},
     "output_type": "execute_result"
    }
   ],
   "source": [
    "train_tensor = tensor[:trainsize]\n",
    "train_tensor"
   ],
   "metadata": {
    "collapsed": false,
    "ExecuteTime": {
     "end_time": "2024-02-21T01:37:10.181479Z",
     "start_time": "2024-02-21T01:37:10.171857Z"
    }
   },
   "id": "906acf142fbb047b",
   "execution_count": 34
  },
  {
   "cell_type": "code",
   "outputs": [
    {
     "data": {
      "text/plain": "array([[1.        , 0.33333333, 0.        , 0.8       , 0.8       ],\n       [0.        , 0.33333333, 0.6       , 0.2       , 0.34      ]])"
     },
     "execution_count": 35,
     "metadata": {},
     "output_type": "execute_result"
    }
   ],
   "source": [
    "valid_tensor = tensor[trainsize: trainsize + validsize]\n",
    "valid_tensor"
   ],
   "metadata": {
    "collapsed": false,
    "ExecuteTime": {
     "end_time": "2024-02-21T01:37:10.183954Z",
     "start_time": "2024-02-21T01:37:10.175723Z"
    }
   },
   "id": "61bc7aa9c8fca3c9",
   "execution_count": 35
  },
  {
   "cell_type": "code",
   "outputs": [
    {
     "data": {
      "text/plain": "array([[0.6       , 0.33333333, 0.        , 0.4       , 0.54      ],\n       [0.4       , 1.        , 0.        , 0.2       , 0.424082  ]])"
     },
     "execution_count": 36,
     "metadata": {},
     "output_type": "execute_result"
    }
   ],
   "source": [
    "test_tensor = tensor[trainsize + validsize:]\n",
    "test_tensor"
   ],
   "metadata": {
    "collapsed": false,
    "ExecuteTime": {
     "end_time": "2024-02-21T01:37:10.196733Z",
     "start_time": "2024-02-21T01:37:10.179117Z"
    }
   },
   "id": "12f1f6565e535ce0",
   "execution_count": 36
  },
  {
   "cell_type": "code",
   "outputs": [
    {
     "name": "stdout",
     "output_type": "stream",
     "text": [
      "(16, 5) (2, 5) (2, 5)\n"
     ]
    }
   ],
   "source": [
    "print(train_tensor.shape, valid_tensor.shape, test_tensor.shape)"
   ],
   "metadata": {
    "collapsed": false,
    "ExecuteTime": {
     "end_time": "2024-02-21T01:37:10.199440Z",
     "start_time": "2024-02-21T01:37:10.186248Z"
    }
   },
   "id": "a9cdd622ac2cee69",
   "execution_count": 37
  },
  {
   "cell_type": "code",
   "outputs": [],
   "source": [
    "class MyDataset(torch.utils.data.Dataset):\n",
    "    def __init__(self, tensor, args):\n",
    "        super(MyDataset, self).__init__()\n",
    "        self.args = args\n",
    "        self.data = tensor\n",
    "    \n",
    "    def __len__(self):\n",
    "        return len(self.data)\n",
    "    \n",
    "    def __getitem__(self, idx):\n",
    "        x = self.data[idx][:4]\n",
    "        y = self.data[idx][4]\n",
    "        return x, y\n"
   ],
   "metadata": {
    "collapsed": false,
    "ExecuteTime": {
     "end_time": "2024-02-21T01:37:10.208056Z",
     "start_time": "2024-02-21T01:37:10.202518Z"
    }
   },
   "id": "bf6da4406341f64d",
   "execution_count": 38
  },
  {
   "cell_type": "code",
   "outputs": [],
   "source": [
    "train_set = MyDataset(train_tensor, args)\n",
    "valid_set = MyDataset(valid_tensor, args)\n",
    "test_set = MyDataset(test_tensor, args)"
   ],
   "metadata": {
    "collapsed": false,
    "ExecuteTime": {
     "end_time": "2024-02-21T01:37:10.208388Z",
     "start_time": "2024-02-21T01:37:10.205127Z"
    }
   },
   "id": "8f3bdf5d1081874a",
   "execution_count": 39
  },
  {
   "cell_type": "code",
   "outputs": [],
   "source": [
    "from torch.utils.data import DataLoader\n",
    "\n",
    "# 创建数据加载器\n",
    "batch_size = 1\n",
    "train_loader = DataLoader(train_set, batch_size=batch_size, shuffle=True)\n",
    "valid_loader = DataLoader(valid_set, batch_size=batch_size, shuffle=False)\n",
    "test_loader = DataLoader(test_set, batch_size=batch_size, shuffle=False)"
   ],
   "metadata": {
    "collapsed": false,
    "ExecuteTime": {
     "end_time": "2024-02-21T01:37:10.214901Z",
     "start_time": "2024-02-21T01:37:10.208326Z"
    }
   },
   "id": "c9dd0fc0be58d307",
   "execution_count": 40
  },
  {
   "cell_type": "code",
   "outputs": [],
   "source": [
    "for train_batch in train_loader:\n",
    "    x, y = train_batch\n",
    "for valid_batch in valid_loader:\n",
    "    x, y = valid_batch"
   ],
   "metadata": {
    "collapsed": false,
    "ExecuteTime": {
     "end_time": "2024-02-21T01:37:10.226711Z",
     "start_time": "2024-02-21T01:37:10.210925Z"
    }
   },
   "id": "2aafa0b0ca188804",
   "execution_count": 41
  },
  {
   "cell_type": "code",
   "outputs": [],
   "source": [
    "class MLP(torch.nn.Module):\n",
    "    def __init__(self, input_dim, hidden_dim, output_dim):\n",
    "        super(MLP, self).__init__()\n",
    "        self.fc1 = torch.nn.Linear(input_dim, hidden_dim // 2)\n",
    "        self.norm = torch.nn.LayerNorm(hidden_dim // 2, hidden_dim // 2)\n",
    "        self.relu = torch.nn.ReLU()\n",
    "        self.fc2 = torch.nn.Linear(hidden_dim // 2, hidden_dim // 4)\n",
    "        self.norm2 = torch.nn.LayerNorm(hidden_dim // 4, hidden_dim // 4)\n",
    "        self.relu2 = torch.nn.ReLU()\n",
    "        self.fc3 = torch.nn.Linear(hidden_dim // 4, output_dim)\n",
    "\n",
    "    def forward(self, x):\n",
    "        x = self.fc1(x)\n",
    "        x = self.norm(x)\n",
    "        x = self.relu(x)\n",
    "        x = self.fc2(x)\n",
    "        x = self.norm2(x)\n",
    "        x = self.relu2(x)\n",
    "        y = self.fc3(x)\n",
    "        return y.reshape(-1,)\n",
    "        # return y\n",
    "        "
   ],
   "metadata": {
    "collapsed": false,
    "ExecuteTime": {
     "end_time": "2024-02-21T01:37:10.228461Z",
     "start_time": "2024-02-21T01:37:10.216383Z"
    }
   },
   "id": "944ce1ec16cd8182",
   "execution_count": 42
  },
  {
   "cell_type": "code",
   "outputs": [],
   "source": [
    "model = MLP(4, 128, 1)"
   ],
   "metadata": {
    "collapsed": false,
    "ExecuteTime": {
     "end_time": "2024-02-21T01:37:10.229027Z",
     "start_time": "2024-02-21T01:37:10.218847Z"
    }
   },
   "id": "c4b3def5ad3f038b",
   "execution_count": 43
  },
  {
   "cell_type": "code",
   "outputs": [],
   "source": [
    "loss_function = torch.nn.L1Loss()\n",
    "optimizer = torch.optim.AdamW(model.parameters(), lr=1e-3)"
   ],
   "metadata": {
    "collapsed": false,
    "ExecuteTime": {
     "end_time": "2024-02-21T01:37:10.239441Z",
     "start_time": "2024-02-21T01:37:10.231129Z"
    }
   },
   "id": "b92b8b2fd417bbf3",
   "execution_count": 44
  },
  {
   "cell_type": "code",
   "outputs": [],
   "source": [
    "from tqdm import *"
   ],
   "metadata": {
    "collapsed": false,
    "ExecuteTime": {
     "end_time": "2024-02-21T01:37:10.240252Z",
     "start_time": "2024-02-21T01:37:10.233005Z"
    }
   },
   "id": "420aa7aab2fcb131",
   "execution_count": 45
  },
  {
   "cell_type": "code",
   "outputs": [
    {
     "name": "stdout",
     "output_type": "stream",
     "text": [
      "epoch: 0, loss: 15.839620511483854\n",
      "epoch: 1, loss: 169.32340516770117\n",
      "epoch: 2, loss: 188.35464550112897\n",
      "epoch: 3, loss: 128.2175053791243\n",
      "epoch: 4, loss: 115.57646823024098\n",
      "epoch: 5, loss: 160.32460993228332\n",
      "epoch: 6, loss: 123.27192954030453\n",
      "epoch: 7, loss: 116.27242311452429\n",
      "epoch: 8, loss: 44.97026630192275\n",
      "epoch: 9, loss: 200.644512275176\n",
      "epoch: 10, loss: 195.8460403277462\n",
      "epoch: 11, loss: 76.94071036968397\n",
      "epoch: 12, loss: 175.89218167767595\n",
      "epoch: 13, loss: 89.7453021299388\n",
      "epoch: 14, loss: 65.5404057464401\n",
      "epoch: 15, loss: 136.15657421716887\n",
      "epoch: 16, loss: 104.26721962537854\n",
      "epoch: 17, loss: 196.99914338003362\n",
      "epoch: 18, loss: 137.50218916938812\n",
      "epoch: 19, loss: 131.88611667486222\n",
      "epoch: 20, loss: 197.31130094787997\n",
      "epoch: 21, loss: 154.70326187724564\n",
      "epoch: 22, loss: 187.25612330826507\n",
      "epoch: 23, loss: 86.1678475159977\n",
      "epoch: 24, loss: 120.3102122153027\n",
      "epoch: 25, loss: 112.11697035392682\n",
      "epoch: 26, loss: 145.93458069290327\n",
      "epoch: 27, loss: 138.63793066570597\n",
      "epoch: 28, loss: 66.28303519272988\n",
      "epoch: 29, loss: 173.14379972550532\n",
      "epoch: 30, loss: 107.23654102972796\n",
      "epoch: 31, loss: 96.36255824071321\n",
      "epoch: 32, loss: 182.41831852555734\n",
      "epoch: 33, loss: 116.43463288437572\n",
      "epoch: 34, loss: 122.48607985858278\n",
      "epoch: 35, loss: 77.18685045917579\n",
      "epoch: 36, loss: 86.56824572422146\n",
      "epoch: 37, loss: 148.02915661546317\n",
      "epoch: 38, loss: 55.96590388826483\n",
      "epoch: 39, loss: 187.4568126470294\n",
      "epoch: 40, loss: 141.34238029960332\n",
      "epoch: 41, loss: 135.7455056817705\n",
      "epoch: 42, loss: 119.48377752498685\n",
      "epoch: 43, loss: 172.3461504161089\n",
      "epoch: 44, loss: 136.5696555235421\n",
      "epoch: 45, loss: 97.86506171917148\n",
      "epoch: 46, loss: 181.23575879142373\n",
      "epoch: 47, loss: 223.58902496265236\n",
      "epoch: 48, loss: 149.2543767982621\n",
      "epoch: 49, loss: 141.81757660683692\n",
      "epoch: 50, loss: 232.0042366802652\n",
      "epoch: 51, loss: 154.18345577037056\n",
      "epoch: 52, loss: 147.46946680205653\n",
      "epoch: 53, loss: 196.86838491106613\n",
      "epoch: 54, loss: 137.51123649525715\n",
      "epoch: 55, loss: 182.12642853854405\n",
      "epoch: 56, loss: 138.35882623041945\n",
      "epoch: 57, loss: 167.57302406486403\n",
      "epoch: 58, loss: 110.83021927666609\n",
      "epoch: 59, loss: 146.76710506933117\n",
      "epoch: 60, loss: 192.447646429722\n",
      "epoch: 61, loss: 227.03992460805762\n",
      "epoch: 62, loss: 160.2240794685114\n",
      "epoch: 63, loss: 192.88449715368887\n",
      "epoch: 64, loss: 153.95901064474165\n",
      "epoch: 65, loss: 171.68324598218126\n",
      "epoch: 66, loss: 137.44120697888357\n",
      "epoch: 67, loss: 157.2398681541895\n",
      "epoch: 68, loss: 148.92475905724095\n",
      "epoch: 69, loss: 126.0523972962238\n",
      "epoch: 70, loss: 116.26585590008732\n",
      "epoch: 71, loss: 134.94509220239593\n",
      "epoch: 72, loss: 200.53293576372226\n",
      "epoch: 73, loss: 235.6653946163681\n",
      "epoch: 74, loss: 176.01176300114957\n",
      "epoch: 75, loss: 93.66196089680007\n",
      "epoch: 76, loss: 91.69950951551014\n",
      "epoch: 77, loss: 130.9268564032326\n",
      "epoch: 78, loss: 144.38946572635004\n",
      "epoch: 79, loss: 162.48879115440567\n",
      "epoch: 80, loss: 115.11966838601256\n",
      "epoch: 81, loss: 137.97533410048524\n",
      "epoch: 82, loss: 105.73795536221398\n",
      "epoch: 83, loss: 134.2247920234424\n",
      "epoch: 84, loss: 119.03588401502047\n",
      "epoch: 85, loss: 121.34510789621578\n",
      "epoch: 86, loss: 153.02502171520544\n",
      "epoch: 87, loss: 245.44374798132318\n",
      "epoch: 88, loss: 181.14353614264917\n",
      "epoch: 89, loss: 201.47434998278618\n",
      "epoch: 90, loss: 187.23504896550142\n",
      "epoch: 91, loss: 134.92957112419435\n",
      "epoch: 92, loss: 125.43390204060728\n",
      "epoch: 93, loss: 262.1999197840333\n",
      "epoch: 94, loss: 208.69600473859717\n",
      "epoch: 95, loss: 181.34724110485556\n",
      "epoch: 96, loss: 167.32951167218985\n",
      "epoch: 97, loss: 192.026435624931\n",
      "epoch: 98, loss: 155.2978586081888\n",
      "epoch: 99, loss: 299.7350002686891\n",
      "Test loss: 401.9340980773284\n"
     ]
    }
   ],
   "source": [
    "for epoch in range(100):\n",
    "    for train_batch in train_loader:\n",
    "        x, y = train_batch\n",
    "        y_pred = model(x)\n",
    "        loss = loss_function(y_pred, y)\n",
    "        optimizer.zero_grad()\n",
    "        loss.backward()\n",
    "        optimizer.step()\n",
    "    \n",
    "    valid_loss = 0.0\n",
    "    for valid_batch in valid_loader:\n",
    "        x, y = valid_batch\n",
    "        y_pred = model(x)\n",
    "        loss = loss_function(y_pred, y)\n",
    "        valid_loss += loss.item()\n",
    "    print(f'epoch: {epoch}, loss: {loss.item() * max_value}')\n",
    "    \n",
    "test_loss = 0.0\n",
    "for test_batch in test_loader:\n",
    "    x, y = test_batch\n",
    "    y_pred = model(x)\n",
    "    loss = loss_function(y_pred, y)\n",
    "    test_loss += loss.item()\n",
    "print(f'Test loss: {loss.item() * max_value}')"
   ],
   "metadata": {
    "collapsed": false,
    "ExecuteTime": {
     "end_time": "2024-02-21T01:39:00.113829Z",
     "start_time": "2024-02-21T01:38:58.783371Z"
    }
   },
   "id": "307ae3ad51d62ac7",
   "execution_count": 52
  },
  {
   "cell_type": "code",
   "outputs": [],
   "source": [],
   "metadata": {
    "collapsed": false,
    "ExecuteTime": {
     "end_time": "2024-02-21T01:37:11.562252Z",
     "start_time": "2024-02-21T01:37:11.561031Z"
    }
   },
   "id": "2454ce07e544bf4b",
   "execution_count": 46
  }
 ],
 "metadata": {
  "kernelspec": {
   "display_name": "Python 3",
   "language": "python",
   "name": "python3"
  },
  "language_info": {
   "codemirror_mode": {
    "name": "ipython",
    "version": 2
   },
   "file_extension": ".py",
   "mimetype": "text/x-python",
   "name": "python",
   "nbconvert_exporter": "python",
   "pygments_lexer": "ipython2",
   "version": "2.7.6"
  }
 },
 "nbformat": 4,
 "nbformat_minor": 5
}
