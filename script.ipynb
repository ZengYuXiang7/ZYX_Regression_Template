{
 "cells": [
  {
   "cell_type": "code",
   "outputs": [
    {
     "data": {
      "text/plain": "    case    t  h    δ   a     斜率y1  最高点y2\n0      1  0.5  5  0.5   5   826.53   1610\n1      2  1.0  5  1.0   6  1682.35   3940\n2      3  1.5  5  1.5   7  2600.00   7080\n3      4  2.0  5  2.0   8  3400.00  10800\n4      5  2.5  5  2.5   9  4300.00  14800\n5      6  3.0  5  3.0  10  5000.00  19300\n6      7  1.0  6  1.5   5  2524.50   5150\n7      8  0.5  6  2.0   6  1700.00   4950\n8      9  2.0  6  0.5   7  2700.00   7510\n9     10  1.5  6  1.0   8  2200.00   7180\n10    11  3.0  6  0.5   9  4000.00  13800\n11    12  2.5  6  1.0  10  3500.00  13400\n12    13  1.5  7  2.0   5  4060.78   8330\n13    14  2.0  7  1.5   6  3600.00   8990\n14    15  0.5  7  1.0   7   900.00   2730\n15    16  1.0  7  0.5   8  1400.00   4510\n16    17  0.5  7  3.0   9  2016.67   8070\n17    18  1.0  7  2.5  10  2400.00   9350\n18    19  2.0  8  1.0   5  3400.00   6960\n19    20  1.5  8  0.5   6  2120.41   5110",
      "text/html": "<div>\n<style scoped>\n    .dataframe tbody tr th:only-of-type {\n        vertical-align: middle;\n    }\n\n    .dataframe tbody tr th {\n        vertical-align: top;\n    }\n\n    .dataframe thead th {\n        text-align: right;\n    }\n</style>\n<table border=\"1\" class=\"dataframe\">\n  <thead>\n    <tr style=\"text-align: right;\">\n      <th></th>\n      <th>case</th>\n      <th>t</th>\n      <th>h</th>\n      <th>δ</th>\n      <th>a</th>\n      <th>斜率y1</th>\n      <th>最高点y2</th>\n    </tr>\n  </thead>\n  <tbody>\n    <tr>\n      <th>0</th>\n      <td>1</td>\n      <td>0.5</td>\n      <td>5</td>\n      <td>0.5</td>\n      <td>5</td>\n      <td>826.53</td>\n      <td>1610</td>\n    </tr>\n    <tr>\n      <th>1</th>\n      <td>2</td>\n      <td>1.0</td>\n      <td>5</td>\n      <td>1.0</td>\n      <td>6</td>\n      <td>1682.35</td>\n      <td>3940</td>\n    </tr>\n    <tr>\n      <th>2</th>\n      <td>3</td>\n      <td>1.5</td>\n      <td>5</td>\n      <td>1.5</td>\n      <td>7</td>\n      <td>2600.00</td>\n      <td>7080</td>\n    </tr>\n    <tr>\n      <th>3</th>\n      <td>4</td>\n      <td>2.0</td>\n      <td>5</td>\n      <td>2.0</td>\n      <td>8</td>\n      <td>3400.00</td>\n      <td>10800</td>\n    </tr>\n    <tr>\n      <th>4</th>\n      <td>5</td>\n      <td>2.5</td>\n      <td>5</td>\n      <td>2.5</td>\n      <td>9</td>\n      <td>4300.00</td>\n      <td>14800</td>\n    </tr>\n    <tr>\n      <th>5</th>\n      <td>6</td>\n      <td>3.0</td>\n      <td>5</td>\n      <td>3.0</td>\n      <td>10</td>\n      <td>5000.00</td>\n      <td>19300</td>\n    </tr>\n    <tr>\n      <th>6</th>\n      <td>7</td>\n      <td>1.0</td>\n      <td>6</td>\n      <td>1.5</td>\n      <td>5</td>\n      <td>2524.50</td>\n      <td>5150</td>\n    </tr>\n    <tr>\n      <th>7</th>\n      <td>8</td>\n      <td>0.5</td>\n      <td>6</td>\n      <td>2.0</td>\n      <td>6</td>\n      <td>1700.00</td>\n      <td>4950</td>\n    </tr>\n    <tr>\n      <th>8</th>\n      <td>9</td>\n      <td>2.0</td>\n      <td>6</td>\n      <td>0.5</td>\n      <td>7</td>\n      <td>2700.00</td>\n      <td>7510</td>\n    </tr>\n    <tr>\n      <th>9</th>\n      <td>10</td>\n      <td>1.5</td>\n      <td>6</td>\n      <td>1.0</td>\n      <td>8</td>\n      <td>2200.00</td>\n      <td>7180</td>\n    </tr>\n    <tr>\n      <th>10</th>\n      <td>11</td>\n      <td>3.0</td>\n      <td>6</td>\n      <td>0.5</td>\n      <td>9</td>\n      <td>4000.00</td>\n      <td>13800</td>\n    </tr>\n    <tr>\n      <th>11</th>\n      <td>12</td>\n      <td>2.5</td>\n      <td>6</td>\n      <td>1.0</td>\n      <td>10</td>\n      <td>3500.00</td>\n      <td>13400</td>\n    </tr>\n    <tr>\n      <th>12</th>\n      <td>13</td>\n      <td>1.5</td>\n      <td>7</td>\n      <td>2.0</td>\n      <td>5</td>\n      <td>4060.78</td>\n      <td>8330</td>\n    </tr>\n    <tr>\n      <th>13</th>\n      <td>14</td>\n      <td>2.0</td>\n      <td>7</td>\n      <td>1.5</td>\n      <td>6</td>\n      <td>3600.00</td>\n      <td>8990</td>\n    </tr>\n    <tr>\n      <th>14</th>\n      <td>15</td>\n      <td>0.5</td>\n      <td>7</td>\n      <td>1.0</td>\n      <td>7</td>\n      <td>900.00</td>\n      <td>2730</td>\n    </tr>\n    <tr>\n      <th>15</th>\n      <td>16</td>\n      <td>1.0</td>\n      <td>7</td>\n      <td>0.5</td>\n      <td>8</td>\n      <td>1400.00</td>\n      <td>4510</td>\n    </tr>\n    <tr>\n      <th>16</th>\n      <td>17</td>\n      <td>0.5</td>\n      <td>7</td>\n      <td>3.0</td>\n      <td>9</td>\n      <td>2016.67</td>\n      <td>8070</td>\n    </tr>\n    <tr>\n      <th>17</th>\n      <td>18</td>\n      <td>1.0</td>\n      <td>7</td>\n      <td>2.5</td>\n      <td>10</td>\n      <td>2400.00</td>\n      <td>9350</td>\n    </tr>\n    <tr>\n      <th>18</th>\n      <td>19</td>\n      <td>2.0</td>\n      <td>8</td>\n      <td>1.0</td>\n      <td>5</td>\n      <td>3400.00</td>\n      <td>6960</td>\n    </tr>\n    <tr>\n      <th>19</th>\n      <td>20</td>\n      <td>1.5</td>\n      <td>8</td>\n      <td>0.5</td>\n      <td>6</td>\n      <td>2120.41</td>\n      <td>5110</td>\n    </tr>\n  </tbody>\n</table>\n</div>"
     },
     "execution_count": 1,
     "metadata": {},
     "output_type": "execute_result"
    }
   ],
   "source": [
    "import numpy as np\n",
    "import pandas as pd\n",
    "df = pd.read_excel('./datasets/数据预处理.xlsx')\n",
    "df\n",
    "# df = np.array(df)"
   ],
   "metadata": {
    "collapsed": false,
    "ExecuteTime": {
     "end_time": "2024-03-12T08:07:23.177808Z",
     "start_time": "2024-03-12T08:07:22.978147Z"
    }
   },
   "id": "8755fa47032abfe3",
   "execution_count": 1
  },
  {
   "cell_type": "code",
   "outputs": [],
   "source": [],
   "metadata": {
    "collapsed": false
   },
   "id": "a9a7793ad7706d5b"
  }
 ],
 "metadata": {
  "kernelspec": {
   "display_name": "Python 3",
   "language": "python",
   "name": "python3"
  },
  "language_info": {
   "codemirror_mode": {
    "name": "ipython",
    "version": 2
   },
   "file_extension": ".py",
   "mimetype": "text/x-python",
   "name": "python",
   "nbconvert_exporter": "python",
   "pygments_lexer": "ipython2",
   "version": "2.7.6"
  }
 },
 "nbformat": 4,
 "nbformat_minor": 5
}
